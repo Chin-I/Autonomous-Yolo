{
 "cells": [
  {
   "cell_type": "code",
   "execution_count": 8,
   "metadata": {
    "collapsed": true
   },
   "outputs": [],
   "source": [
    "import mxnet.image as image\n",
    "import numpy as np\n",
    "import mxnet as mx"
   ]
  },
  {
   "cell_type": "code",
   "execution_count": 2,
   "metadata": {},
   "outputs": [],
   "source": [
    "# SSD \n",
    "pikachu = image.ImageDetIter(batch_size=32, \n",
    "                               data_shape=(3, 256, 256), \n",
    "                               path_imgrec=\"../../pikachu/Pikachu/data/pikachu_train.rec\", \n",
    "                               shuffle=False)"
   ]
  },
  {
   "cell_type": "code",
   "execution_count": 7,
   "metadata": {},
   "outputs": [
    {
     "name": "stdout",
     "output_type": "stream",
     "text": [
      "(32L, 3L, 256L, 256L)\n",
      "(32L, 1L, 5L)\n"
     ]
    }
   ],
   "source": [
    "batch = pikachu.next()\n",
    "print batch.data[0].shape\n",
    "print batch.label[0].shape"
   ]
  },
  {
   "cell_type": "code",
   "execution_count": 11,
   "metadata": {},
   "outputs": [
    {
     "data": {
      "text/plain": [
       "\n",
       "[[[ 0.          0.52174443  0.39983985  0.60991675  0.52888846]]\n",
       "\n",
       " [[ 0.          0.49537563  0.37465474  0.60650802  0.50124604]]\n",
       "\n",
       " [[ 0.          0.36016801  0.40356323  0.47823539  0.55117148]]\n",
       "\n",
       " [[ 0.          0.59086055  0.29776123  0.7365272   0.4734301 ]]\n",
       "\n",
       " [[ 0.          0.41089383  0.39647639  0.49731091  0.53626442]]\n",
       "\n",
       " [[ 0.          0.36045885  0.29452375  0.50003248  0.44324386]]\n",
       "\n",
       " [[ 0.          0.34180146  0.3637726   0.42967331  0.48979521]]\n",
       "\n",
       " [[ 0.          0.30706233  0.29764614  0.4224554   0.44424239]]\n",
       "\n",
       " [[ 0.          0.28417715  0.34752172  0.384413    0.51528209]]\n",
       "\n",
       " [[ 0.          0.34698078  0.39938366  0.48452142  0.57232022]]]\n",
       "<NDArray 10x1x5 @cpu(0)>"
      ]
     },
     "execution_count": 11,
     "metadata": {},
     "output_type": "execute_result"
    }
   ],
   "source": [
    "batch.label[0][:10]\n",
    "(1,100,5)"
   ]
  },
  {
   "cell_type": "code",
   "execution_count": null,
   "metadata": {
    "collapsed": true
   },
   "outputs": [],
   "source": [
    "[c x y w h + class]\n",
    "0<x,y<1"
   ]
  }
 ],
 "metadata": {
  "kernelspec": {
   "display_name": "Python 2",
   "language": "python",
   "name": "python2"
  },
  "language_info": {
   "codemirror_mode": {
    "name": "ipython",
    "version": 2
   },
   "file_extension": ".py",
   "mimetype": "text/x-python",
   "name": "python",
   "nbconvert_exporter": "python",
   "pygments_lexer": "ipython2",
   "version": "2.7.12"
  }
 },
 "nbformat": 4,
 "nbformat_minor": 2
}
