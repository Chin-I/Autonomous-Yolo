{
 "cells": [
  {
   "cell_type": "code",
   "execution_count": 1,
   "metadata": {
    "collapsed": true
   },
   "outputs": [],
   "source": [
    "import mxnet as mx \n",
    "import numpy as np \n",
    "from Symbol import symbol"
   ]
  },
  {
   "cell_type": "code",
   "execution_count": 2,
   "metadata": {},
   "outputs": [],
   "source": [
    "model_path=\"/home/chuck/bittiger_course_mxnet/DS502-AI-Engineer/DS502-1702/MXNET_course/mxnet-week4n5-final-project/pretrained_models/resnet-34\" \n",
    "epoch=0"
   ]
  },
  {
   "cell_type": "code",
   "execution_count": 3,
   "metadata": {},
   "outputs": [],
   "source": [
    "sym, args, aux = mx.model.load_checkpoint(model_path, epoch)\n",
    "# extract last bn layer\n",
    "sym = sym.get_internals()['bn1_output']"
   ]
  },
  {
   "cell_type": "code",
   "execution_count": 8,
   "metadata": {},
   "outputs": [],
   "source": [
    "anchors = np.asarray([[ 449.61853027,  360.13400269],\n",
    "       [ 234.92941284,  241.6000061 ],\n",
    "       [ 120.71929932,  115.58772278],\n",
    "       [ 302.77478027,  403.26126099],\n",
    "       [ 395.41271973,  236.67462158]], dtype=np.float32)\n",
    "num_boxes = len(anchors)"
   ]
  },
  {
   "cell_type": "code",
   "execution_count": 9,
   "metadata": {
    "scrolled": false
   },
   "outputs": [],
   "source": [
    "sym = mx.sym.Activation(data=sym, act_type=\"relu\", name=\"relu_final\")\n",
    "sym = mx.sym.Convolution(data=sym, kernel=(3, 3),\n",
    "                         num_filter=num_boxes*5, pad=(1, 1),\n",
    "                         stride=(1, 1), no_bias=True,\n",
    "                         )\n",
    "sym = mx.sym.transpose(sym, (0,2,3,1))\n",
    "# get softsign\n",
    "#sym = sym / (1 + mx.sym.abs(sym))"
   ]
  },
  {
   "cell_type": "code",
   "execution_count": null,
   "metadata": {
    "collapsed": true
   },
   "outputs": [],
   "source": [
    "def YoloV2loss(label, pred):\n",
    "    splits = mx.sym.split(label, num_outputs=5*num_boxes, axis=2)"
   ]
  }
 ],
 "metadata": {
  "kernelspec": {
   "display_name": "Python 2",
   "language": "python",
   "name": "python2"
  },
  "language_info": {
   "codemirror_mode": {
    "name": "ipython",
    "version": 2
   },
   "file_extension": ".py",
   "mimetype": "text/x-python",
   "name": "python",
   "nbconvert_exporter": "python",
   "pygments_lexer": "ipython2",
   "version": "2.7.12"
  }
 },
 "nbformat": 4,
 "nbformat_minor": 2
}
